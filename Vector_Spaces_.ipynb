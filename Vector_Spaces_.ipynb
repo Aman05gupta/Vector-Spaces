{
  "nbformat": 4,
  "nbformat_minor": 0,
  "metadata": {
    "colab": {
      "provenance": [],
      "authorship_tag": "ABX9TyPrpYCcWO/60iYhQgxo2Ywt",
      "include_colab_link": true
    },
    "kernelspec": {
      "name": "python3",
      "display_name": "Python 3"
    },
    "language_info": {
      "name": "python"
    }
  },
  "cells": [
    {
      "cell_type": "markdown",
      "metadata": {
        "id": "view-in-github",
        "colab_type": "text"
      },
      "source": [
        "<a href=\"https://colab.research.google.com/github/Aman05gupta/Vector-Spaces/blob/main/Vector_Spaces_.ipynb\" target=\"_parent\"><img src=\"https://colab.research.google.com/assets/colab-badge.svg\" alt=\"Open In Colab\"/></a>"
      ]
    },
    {
      "cell_type": "markdown",
      "source": [
        "#  Vector Spaces\n",
        "A vector space (or linear space) is a set\n",
        "𝑉\n",
        " of vectors along with two operations: vector addition and scalar multiplication. These operations must satisfy certain axioms:\n",
        "\n",
        "\n",
        "\n",
        "\n",
        "---\n",
        "Basis and Components\n",
        "\n"
      ],
      "metadata": {
        "id": "lFyDuK3I_0Rq"
      }
    },
    {
      "cell_type": "code",
      "source": [
        "import numpy as np\n",
        "\n"
      ],
      "metadata": {
        "id": "d2icNYRd_1Ji"
      },
      "execution_count": 14,
      "outputs": []
    },
    {
      "cell_type": "code",
      "source": [
        "# Define the basis vectors\n",
        "v1 = np.array([1, 0])\n",
        "v2 = np.array([0, 1])\n",
        "\n",
        "\n"
      ],
      "metadata": {
        "id": "A6YMdFpFACSD"
      },
      "execution_count": 15,
      "outputs": []
    },
    {
      "cell_type": "code",
      "source": [
        "# Define the vector u\n",
        "u = np.array([3, 4])\n",
        "\n",
        "# Form the basis matrix V\n",
        "V = np.vstack((v1, v2)).T\n",
        "\n"
      ],
      "metadata": {
        "id": "zMkJrwLlAMQe"
      },
      "execution_count": 16,
      "outputs": []
    },
    {
      "cell_type": "code",
      "source": [
        "# Solve for components c1, c2\n",
        "c = np.linalg.solve(V, u)\n",
        "\n",
        "# Print components\n",
        "print(\"Components c1, c2:\", c)"
      ],
      "metadata": {
        "colab": {
          "base_uri": "https://localhost:8080/"
        },
        "id": "B94_jIFVAcmn",
        "outputId": "3f351361-09af-4c29-f652-174b079334a3"
      },
      "execution_count": 17,
      "outputs": [
        {
          "output_type": "stream",
          "name": "stdout",
          "text": [
            "Components c1, c2: [3. 4.]\n"
          ]
        }
      ]
    },
    {
      "cell_type": "markdown",
      "source": [
        "## These properties describe the fundamental axioms that define a vector space 𝑉 over a field 𝐹\n",
        "\n",
        "\n",
        "---\n",
        "**Understanding Closure under Addition**\n",
        "\n",
        "In mathematical terms, closure under addition in a vector space\n",
        "𝑉 means: ∀𝑣, 𝑤 ∈ 𝑉, 𝑣 + 𝑤 ∈ 𝑉.\n",
        "\n",
        "\n",
        "---\n",
        "\n",
        "\n",
        "\n",
        "This property ensures that the vector space is closed under the operation of vector addition. Essentially, it guarantees that adding any two vectors within the space results in another vector that is also within the space\n",
        "𝑉.\n",
        "\n",
        "\n"
      ],
      "metadata": {
        "id": "ow2MAPBYBUX0"
      }
    },
    {
      "cell_type": "code",
      "source": [
        "class VectorSpace:\n",
        "    def __init__(self, dimension):\n",
        "        self.dimension = dimension\n",
        "\n",
        "    def is_in_vector_space(self, u):\n",
        "        return len(u) == self.dimension\n",
        "\n",
        "    def add_vectors(self, u, v):\n",
        "        if not self.is_in_vector_space(u) or not self.is_in_vector_space(v):\n",
        "            raise ValueError(\"Vectors must have the same dimension\")\n",
        "        return [u[i] + v[i] for i in range(self.dimension)]\n",
        "\n",
        "# Example usage:\n",
        "if __name__ == \"__main__\":\n",
        "    # Create a 3-dimensional vector space\n",
        "    V = VectorSpace(3)\n",
        "\n",
        "    # Define vectors\n",
        "    v = [1, 2, 3]\n",
        "    w = [4, 5, 6]\n",
        "\n",
        "    # Check closure under addition\n",
        "    result = V.add_vectors(v, w)\n",
        "    print(\"Sum v + w:\", result)\n",
        "    print(\"Is the sum in the vector space V?\", V.is_in_vector_space(result))\n"
      ],
      "metadata": {
        "colab": {
          "base_uri": "https://localhost:8080/"
        },
        "id": "XosCwmcTAdbG",
        "outputId": "91027eb3-6836-471d-e273-f5b6e4abe010"
      },
      "execution_count": 18,
      "outputs": [
        {
          "output_type": "stream",
          "name": "stdout",
          "text": [
            "Sum v + w: [5, 7, 9]\n",
            "Is the sum in the vector space V? True\n"
          ]
        }
      ]
    },
    {
      "cell_type": "markdown",
      "source": [
        "## Associativity of Addition\n",
        " Addition in the vector space is associative, meaning\n",
        "(𝑣 + 𝑤) + 𝑢 = 𝑣 + (𝑤 + 𝑢) for all 𝑣, 𝑤, 𝑢 ∈ 𝑉."
      ],
      "metadata": {
        "id": "KO2FeZaC4-kn"
      }
    },
    {
      "cell_type": "code",
      "source": [
        "class VectorSpace:\n",
        "    def __init__(self, dimension):\n",
        "        self.dimension = dimension\n",
        "\n",
        "    def is_in_vector_space(self, u):\n",
        "        return len(u) == self.dimension\n",
        "\n",
        "    def add_vectors(self, u, v):\n",
        "        if not self.is_in_vector_space(u) or not self.is_in_vector_space(v):\n",
        "            raise ValueError(\"Vectors must have the same dimension\")\n",
        "        return [u[i] + v[i] for i in range(self.dimension)]\n",
        "\n",
        "    def verify_associativity(self, v, w, u):\n",
        "        # (v + w) + u\n",
        "        result1 = self.add_vectors(self.add_vectors(v, w), u)\n",
        "\n",
        "        # v + (w + u)\n",
        "        result2 = self.add_vectors(v, self.add_vectors(w, u))\n",
        "\n",
        "        return result1 == result2\n",
        "\n",
        "# Example usage:\n",
        "if __name__ == \"__main__\":\n",
        "    # Create a 3-dimensional vector space\n",
        "    V = VectorSpace(3)\n",
        "\n",
        "    # Define vectors\n",
        "    v = [1, 2, 3]\n",
        "    w = [4, 5, 6]\n",
        "    u = [7, 8, 9]\n",
        "\n",
        "    # Verify associativity of addition\n",
        "    is_associative = V.verify_associativity(v, w, u)\n",
        "    if is_associative:\n",
        "        print(\"Associativity of addition holds for vectors in the vector space V.\")\n",
        "    else:\n",
        "        print(\"Associativity of addition does not hold for vectors in the vector space V.\")\n"
      ],
      "metadata": {
        "colab": {
          "base_uri": "https://localhost:8080/"
        },
        "id": "GgMQ38MhCSfh",
        "outputId": "0a10e3c0-ccef-47d4-f7c0-e9ae9a6e1204"
      },
      "execution_count": 19,
      "outputs": [
        {
          "output_type": "stream",
          "name": "stdout",
          "text": [
            "Associativity of addition holds for vectors in the vector space V.\n"
          ]
        }
      ]
    },
    {
      "cell_type": "markdown",
      "source": [
        "## Existence of Additive Identity:\n",
        "There exists a vector 0 ∈ 𝑉 (called the zero vector) such that 𝑣 + 0 = 𝑣\n",
        "for all 𝑣∈𝑉."
      ],
      "metadata": {
        "id": "sgwY82Qy7ByU"
      }
    },
    {
      "cell_type": "code",
      "source": [
        "class VectorSpace:\n",
        "    def __init__(self, dimension):\n",
        "        self.dimension = dimension\n",
        "\n",
        "    def is_in_vector_space(self, u):\n",
        "        return len(u) == self.dimension\n",
        "\n",
        "    def add_vectors(self, u, v):\n",
        "        if not self.is_in_vector_space(u) or not self.is_in_vector_space(v):\n",
        "            raise ValueError(\"Vectors must have the same dimension\")\n",
        "        return [u[i] + v[i] for i in range(self.dimension)]\n",
        "\n",
        "    def zero_vector(self):\n",
        "        return [0] * self.dimension\n",
        "\n",
        "    def verify_additive_identity(self, v):\n",
        "        zero = self.zero_vector()\n",
        "        result = self.add_vectors(v, zero)\n",
        "        return result == v\n",
        "\n",
        "# Example usage:\n",
        "if __name__ == \"__main__\":\n",
        "    # Create a 3-dimensional vector space\n",
        "    V = VectorSpace(3)\n",
        "\n",
        "    # Define a vector\n",
        "    v = [1, 2, 3]\n",
        "\n",
        "    # Verify existence of additive identity\n",
        "    has_additive_identity = V.verify_additive_identity(v)\n",
        "    if has_additive_identity:\n",
        "        print(\"Additive identity exists for vectors in the vector space V.\")\n",
        "    else:\n",
        "        print(\"Additive identity does not exist for vectors in the vector space V.\")\n"
      ],
      "metadata": {
        "colab": {
          "base_uri": "https://localhost:8080/"
        },
        "id": "fY_xeALo58D1",
        "outputId": "7d9c9022-e759-49c9-90a4-bfd9fe36d75d"
      },
      "execution_count": 20,
      "outputs": [
        {
          "output_type": "stream",
          "name": "stdout",
          "text": [
            "Additive identity exists for vectors in the vector space V.\n"
          ]
        }
      ]
    },
    {
      "cell_type": "markdown",
      "source": [
        "## Existence of Additive Inverse:\n",
        "For every 𝑣 ∈ 𝑉, there exists a vector −𝑣∈𝑉\n",
        " (called the additive inverse of 𝑣) such that 𝑣 + ( −𝑣 ) = 0."
      ],
      "metadata": {
        "id": "rkVSyuGw7spC"
      }
    },
    {
      "cell_type": "code",
      "source": [
        "class VectorSpace:\n",
        "    def __init__(self, dimension):\n",
        "        self.dimension = dimension\n",
        "\n",
        "    def is_in_vector_space(self, u):\n",
        "        return len(u) == self.dimension\n",
        "\n",
        "    def add_vectors(self, u, v):\n",
        "        if not self.is_in_vector_space(u) or not self.is_in_vector_space(v):\n",
        "            raise ValueError(\"Vectors must have the same dimension\")\n",
        "        return [u[i] + v[i] for i in range(self.dimension)]\n",
        "\n",
        "    def zero_vector(self):\n",
        "        return [0] * self.dimension\n",
        "\n",
        "    def negate_vector(self, v):\n",
        "        if not self.is_in_vector_space(v):\n",
        "            raise ValueError(\"Vector must have the same dimension\")\n",
        "        return [-v[i] for i in range(self.dimension)]\n",
        "\n",
        "    def verify_additive_inverse(self, v):\n",
        "        inverse = self.negate_vector(v)\n",
        "        zero = self.zero_vector()\n",
        "        result = self.add_vectors(v, inverse)\n",
        "        return result == zero\n",
        "\n",
        "# Example usage:\n",
        "if __name__ == \"__main__\":\n",
        "    # Create a 3-dimensional vector space\n",
        "    V = VectorSpace(3)\n",
        "\n",
        "    # Define a vector\n",
        "    v = [1, 2, 3]\n",
        "\n",
        "    # Verify existence of additive inverse\n",
        "    has_additive_inverse = V.verify_additive_inverse(v)\n",
        "    if has_additive_inverse:\n",
        "        print(\"Additive inverse exists for vectors in the vector space V.\")\n",
        "    else:\n",
        "        print(\"Additive inverse does not exist for vectors in the vector space V.\")\n"
      ],
      "metadata": {
        "colab": {
          "base_uri": "https://localhost:8080/"
        },
        "id": "yx8Q1L3i7hqP",
        "outputId": "f3d129f5-c45e-4b48-8023-06718e6b3ecb"
      },
      "execution_count": 21,
      "outputs": [
        {
          "output_type": "stream",
          "name": "stdout",
          "text": [
            "Additive inverse exists for vectors in the vector space V.\n"
          ]
        }
      ]
    },
    {
      "cell_type": "markdown",
      "source": [
        "## Closure under Scalar Multiplication:\n",
        "For any scalar 𝛼∈𝐹 and 𝑣 ∈𝑉, their scalar product 𝛼𝑣 must also be in 𝑉."
      ],
      "metadata": {
        "id": "jKxdf1ow8Mwd"
      }
    },
    {
      "cell_type": "code",
      "source": [
        "class VectorSpace:\n",
        "    def __init__(self, dimension):\n",
        "        self.dimension = dimension\n",
        "\n",
        "    def is_in_vector_space(self, u):\n",
        "        return len(u) == self.dimension\n",
        "\n",
        "    def add_vectors(self, u, v):\n",
        "        if not self.is_in_vector_space(u) or not self.is_in_vector_space(v):\n",
        "            raise ValueError(\"Vectors must have the same dimension\")\n",
        "        return [u[i] + v[i] for i in range(self.dimension)]\n",
        "\n",
        "    def zero_vector(self):\n",
        "        return [0] * self.dimension\n",
        "\n",
        "    def negate_vector(self, v):\n",
        "        if not self.is_in_vector_space(v):\n",
        "            raise ValueError(\"Vector must have the same dimension\")\n",
        "        return [-v[i] for i in range(self.dimension)]\n",
        "\n",
        "    def scalar_multiply(self, alpha, v):\n",
        "        if not self.is_in_vector_space(v):\n",
        "            raise ValueError(\"Vector must have the same dimension\")\n",
        "        return [alpha * v[i] for i in range(self.dimension)]\n",
        "\n",
        "    def verify_scalar_multiplication(self, alpha, v):\n",
        "        result = self.scalar_multiply(alpha, v)\n",
        "        return self.is_in_vector_space(result)\n",
        "\n",
        "# Example usage:\n",
        "if __name__ == \"__main__\":\n",
        "    # Create a 3-dimensional vector space\n",
        "    V = VectorSpace(3)\n",
        "\n",
        "    # Define a vector and a scalar\n",
        "    v = [1, 2, 3]\n",
        "    alpha = 2\n",
        "\n",
        "    # Verify closure under scalar multiplication\n",
        "    is_closed = V.verify_scalar_multiplication(alpha, v)\n",
        "    if is_closed:\n",
        "        print(\"Closure under scalar multiplication holds for vectors in the vector space V.\")\n",
        "    else:\n",
        "        print(\"Closure under scalar multiplication does not hold for vectors in the vector space V.\")\n"
      ],
      "metadata": {
        "colab": {
          "base_uri": "https://localhost:8080/"
        },
        "id": "jhS2ZRW88Xne",
        "outputId": "97e32ef6-f957-404c-da02-dd80ac5c04e3"
      },
      "execution_count": 22,
      "outputs": [
        {
          "output_type": "stream",
          "name": "stdout",
          "text": [
            "Closure under scalar multiplication holds for vectors in the vector space V.\n"
          ]
        }
      ]
    },
    {
      "cell_type": "markdown",
      "source": [
        "## Distributivity of Scalar Multiplication over Vector Addition:\n",
        "𝛼 ( 𝑣 + 𝑤 ) = 𝛼 𝑣 + 𝛼 𝑤 for all 𝛼 ∈ 𝐹 and  𝑣, 𝑤 ∈ 𝑉."
      ],
      "metadata": {
        "id": "hc0BO_P28Yde"
      }
    },
    {
      "cell_type": "code",
      "source": [
        "class VectorSpace:\n",
        "    def __init__(self, dimension):\n",
        "        self.dimension = dimension\n",
        "\n",
        "    def is_in_vector_space(self, u):\n",
        "        return len(u) == self.dimension\n",
        "\n",
        "    def add_vectors(self, u, v):\n",
        "        if not self.is_in_vector_space(u) or not self.is_in_vector_space(v):\n",
        "            raise ValueError(\"Vectors must have the same dimension\")\n",
        "        return [u[i] + v[i] for i in range(self.dimension)]\n",
        "\n",
        "    def zero_vector(self):\n",
        "        return [0] * self.dimension\n",
        "\n",
        "    def negate_vector(self, v):\n",
        "        if not self.is_in_vector_space(v):\n",
        "            raise ValueError(\"Vector must have the same dimension\")\n",
        "        return [-v[i] for i in range(self.dimension)]\n",
        "\n",
        "    def scalar_multiply(self, alpha, v):\n",
        "        if not self.is_in_vector_space(v):\n",
        "            raise ValueError(\"Vector must have the same dimension\")\n",
        "        return [alpha * v[i] for i in range(self.dimension)]\n",
        "\n",
        "    def verify_distributivity_scalar_vector_addition(self, alpha, v, w):\n",
        "        if not self.is_in_vector_space(v) or not self.is_in_vector_space(w):\n",
        "            raise ValueError(\"Vectors must have the same dimension\")\n",
        "\n",
        "        left_side = self.scalar_multiply(alpha, self.add_vectors(v, w))\n",
        "        right_side = self.add_vectors(self.scalar_multiply(alpha, v), self.scalar_multiply(alpha, w))\n",
        "\n",
        "        return left_side == right_side\n",
        "\n",
        "# Example usage:\n",
        "if __name__ == \"__main__\":\n",
        "    # Create a 3-dimensional vector space\n",
        "    V = VectorSpace(3)\n",
        "\n",
        "    # Define vectors and a scalar\n",
        "    v = [1, 2, 3]\n",
        "    w = [4, 5, 6]\n",
        "    alpha = 2\n",
        "\n",
        "    # Verify distributivity of scalar multiplication over vector addition\n",
        "    is_distributive = V.verify_distributivity_scalar_vector_addition(alpha, v, w)\n",
        "    if is_distributive:\n",
        "        print(\"Distributivity of scalar multiplication over vector addition holds for vectors in the vector space V.\")\n",
        "    else:\n",
        "        print(\"Distributivity of scalar multiplication over vector addition does not hold for vectors in the vector space V.\")\n"
      ],
      "metadata": {
        "colab": {
          "base_uri": "https://localhost:8080/"
        },
        "id": "oD0Bz8PC8uOI",
        "outputId": "7768e6ad-4e8d-4069-eb82-9d3782e83749"
      },
      "execution_count": 23,
      "outputs": [
        {
          "output_type": "stream",
          "name": "stdout",
          "text": [
            "Distributivity of scalar multiplication over vector addition holds for vectors in the vector space V.\n"
          ]
        }
      ]
    },
    {
      "cell_type": "markdown",
      "source": [
        "## Distributivity of Scalar Multiplication over Scalar Addition:\n",
        "( 𝛼 + 𝛽 ) 𝑣 = 𝛼 𝑣 + 𝛽 𝑣 for all 𝛼, 𝛽 ∈ 𝐹 and 𝑣 ∈ 𝑉.\n",
        "\n"
      ],
      "metadata": {
        "id": "YXfZf_E38u3B"
      }
    },
    {
      "cell_type": "code",
      "source": [
        "class VectorSpace:\n",
        "    def __init__(self, dimension):\n",
        "        self.dimension = dimension\n",
        "\n",
        "    def is_in_vector_space(self, u):\n",
        "        return len(u) == self.dimension\n",
        "\n",
        "    def add_vectors(self, u, v):\n",
        "        if not self.is_in_vector_space(u) or not self.is_in_vector_space(v):\n",
        "            raise ValueError(\"Vectors must have the same dimension\")\n",
        "        return [u[i] + v[i] for i in range(self.dimension)]\n",
        "\n",
        "    def scalar_multiply(self, alpha, v):\n",
        "        if not self.is_in_vector_space(v):\n",
        "            raise ValueError(\"Vector must have the same dimension\")\n",
        "        return [alpha * v[i] for i in range(self.dimension)]\n",
        "\n",
        "    def verify_distributivity_scalar_addition(self, alpha, beta, v):\n",
        "        if not self.is_in_vector_space(v):\n",
        "            raise ValueError(\"Vector must have the same dimension\")\n",
        "\n",
        "        left_side = self.scalar_multiply(alpha + beta, v)\n",
        "        right_side = self.add_vectors(self.scalar_multiply(alpha, v), self.scalar_multiply(beta, v))\n",
        "\n",
        "        return left_side == right_side\n",
        "\n",
        "# Example usage:\n",
        "if __name__ == \"__main__\":\n",
        "    # Create a 3-dimensional vector space\n",
        "    V = VectorSpace(3)\n",
        "\n",
        "    # Define a vector and scalars\n",
        "    v = [1, 2, 3]\n",
        "    alpha = 2\n",
        "    beta = 3\n",
        "\n",
        "    # Verify distributivity of scalar multiplication over scalar addition\n",
        "    is_distributive = V.verify_distributivity_scalar_addition(alpha, beta, v)\n",
        "    if is_distributive:\n",
        "        print(\"Distributivity of scalar multiplication over scalar addition holds for vectors in the vector space V.\")\n",
        "    else:\n",
        "        print(\"Distributivity of scalar multiplication over scalar addition does not hold for vectors in the vector space V.\")\n"
      ],
      "metadata": {
        "colab": {
          "base_uri": "https://localhost:8080/"
        },
        "id": "vEncjSM-9CP8",
        "outputId": "ff7172b5-5d24-487f-f6bb-16db4fabb836"
      },
      "execution_count": 24,
      "outputs": [
        {
          "output_type": "stream",
          "name": "stdout",
          "text": [
            "Distributivity of scalar multiplication over scalar addition holds for vectors in the vector space V.\n"
          ]
        }
      ]
    },
    {
      "cell_type": "markdown",
      "source": [
        "## Compatibility of Scalar Multiplication with Field Multiplication:\n",
        "\n",
        "α ( β v ) = ( α β ) v for all scalars α, β ∈ F and v ∈ V."
      ],
      "metadata": {
        "id": "pCssDtOz9IQi"
      }
    },
    {
      "cell_type": "code",
      "source": [],
      "metadata": {
        "id": "blytpPXs9Uhl"
      },
      "execution_count": 24,
      "outputs": []
    },
    {
      "cell_type": "code",
      "source": [
        "class VectorSpace:\n",
        "    def __init__(self, dimension):\n",
        "        self.dimension = dimension\n",
        "\n",
        "    def is_in_vector_space(self, u):\n",
        "        return len(u) == self.dimension\n",
        "\n",
        "    def add_vectors(self, u, v):\n",
        "        if not self.is_in_vector_space(u) or not self.is_in_vector_space(v):\n",
        "            raise ValueError(\"Vectors must have the same dimension\")\n",
        "        return [u[i] + v[i] for i in range(self.dimension)]\n",
        "\n",
        "    def scalar_multiply(self, alpha, v):\n",
        "        if not self.is_in_vector_space(v):\n",
        "            raise ValueError(\"Vector must have the same dimension\")\n",
        "        return [alpha * v[i] for i in range(self.dimension)]\n",
        "\n",
        "    def verify_compatibility_field_multiplication(self, alpha, beta, v):\n",
        "        if not self.is_in_vector_space(v):\n",
        "            raise ValueError(\"Vector must have the same dimension\")\n",
        "\n",
        "        left_side = self.scalar_multiply(alpha, self.scalar_multiply(beta, v))\n",
        "        right_side = self.scalar_multiply(alpha * beta, v)\n",
        "\n",
        "        return left_side == right_side\n",
        "\n",
        "# Example usage:\n",
        "if __name__ == \"__main__\":\n",
        "    # Create a 3-dimensional vector space\n",
        "    V = VectorSpace(3)\n",
        "\n",
        "    # Define a vector and scalars\n",
        "    v = [1, 2, 3]\n",
        "    alpha = 2\n",
        "    beta = 3\n",
        "\n",
        "    # Verify compatibility of scalar multiplication with field multiplication\n",
        "    is_compatible = V.verify_compatibility_field_multiplication(alpha, beta, v)\n",
        "    if is_compatible:\n",
        "        print(\"Compatibility of scalar multiplication with field multiplication holds for vectors in the vector space V.\")\n",
        "    else:\n",
        "        print(\"Compatibility of scalar multiplication with field multiplication does not hold for vectors in the vector space V.\")\n"
      ],
      "metadata": {
        "colab": {
          "base_uri": "https://localhost:8080/"
        },
        "id": "limPsF7e-k7C",
        "outputId": "15fef694-dda4-47ec-caa4-820905da1238"
      },
      "execution_count": 25,
      "outputs": [
        {
          "output_type": "stream",
          "name": "stdout",
          "text": [
            "Compatibility of scalar multiplication with field multiplication holds for vectors in the vector space V.\n"
          ]
        }
      ]
    },
    {
      "cell_type": "code",
      "source": [],
      "metadata": {
        "id": "38gjjQtu-wZP"
      },
      "execution_count": null,
      "outputs": []
    }
  ]
}